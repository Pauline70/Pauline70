{
 "cells": [
  {
   "cell_type": "code",
   "execution_count": 1,
   "metadata": {},
   "outputs": [
    {
     "name": "stdout",
     "output_type": "stream",
     "text": [
      "Requirement already satisfied: pymysql in c:\\users\\hp probook\\appdata\\local\\packages\\pythonsoftwarefoundation.python.3.11_qbz5n2kfra8p0\\localcache\\local-packages\\python311\\site-packages (1.1.0)\n"
     ]
    }
   ],
   "source": [
    "!pip install pymysql"
   ]
  },
  {
   "cell_type": "code",
   "execution_count": 2,
   "metadata": {},
   "outputs": [],
   "source": [
    "import pymysql"
   ]
  },
  {
   "cell_type": "code",
   "execution_count": 3,
   "metadata": {},
   "outputs": [],
   "source": [
    "%load_ext sql"
   ]
  },
  {
   "cell_type": "code",
   "execution_count": 25,
   "metadata": {},
   "outputs": [],
   "source": [
    "%sql sqlite:///youtube_channel_statistics\n"
   ]
  },
  {
   "cell_type": "code",
   "execution_count": 24,
   "metadata": {},
   "outputs": [
    {
     "name": "stdout",
     "output_type": "stream",
     "text": [
      " * sqlite:///YOUTUBE_CHANNEL_STATISTICS.db\n",
      "(sqlite3.DatabaseError) file is not a database\n",
      "[SQL: CREATE TABLE countries (\n",
      "    country_code VARCHAR(5) PRIMARY KEY NOT NULL,\n",
      "    country_name VARCHAR(15),\n",
      "    population INTEGER,\n",
      "    unemployment_rate FLOAT,\n",
      "    urban_population INTEGER,\n",
      "    latitude FLOAT(20),\n",
      "    longitude FLOAT(20)\n",
      ");]\n",
      "(Background on this error at: https://sqlalche.me/e/20/4xp6)\n"
     ]
    }
   ],
   "source": [
    "%%sql\n",
    "CREATE TABLE countries (\n",
    "    country_code VARCHAR(5) PRIMARY KEY NOT NULL,\n",
    "    country_name VARCHAR(15),\n",
    "    population INTEGER,\n",
    "    unemployment_rate FLOAT,\n",
    "    urban_population INTEGER,\n",
    "    latitude FLOAT(20),\n",
    "    longitude FLOAT(20)\n",
    ");"
   ]
  }
 ],
 "metadata": {
  "kernelspec": {
   "display_name": "Python 3",
   "language": "python",
   "name": "python3"
  },
  "language_info": {
   "codemirror_mode": {
    "name": "ipython",
    "version": 3
   },
   "file_extension": ".py",
   "mimetype": "text/x-python",
   "name": "python",
   "nbconvert_exporter": "python",
   "pygments_lexer": "ipython3",
   "version": "3.12.0"
  },
  "orig_nbformat": 4
 },
 "nbformat": 4,
 "nbformat_minor": 2
}
